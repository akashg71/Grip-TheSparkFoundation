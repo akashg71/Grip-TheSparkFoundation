{
 "cells": [
  {
   "cell_type": "markdown",
   "metadata": {},
   "source": [
    "## Author -Akash gupta"
   ]
  },
  {
   "cell_type": "markdown",
   "metadata": {},
   "source": [
    "### TASK"
   ]
  },
  {
   "cell_type": "markdown",
   "metadata": {},
   "source": [
    "### *Stock Market Prediction Using Numerical and Textual Analysis*"
   ]
  },
  {
   "cell_type": "markdown",
   "metadata": {},
   "source": [
    "### OBJECTIVE:"
   ]
  },
  {
   "cell_type": "markdown",
   "metadata": {},
   "source": [
    "Create a hybrid model for stock price/performance prediction using numerical analysis of historical stock prices, and sentimental analysis of news headlines.\n",
    "\n",
    "We will be using Recurrent Neural Networks with LSTM Sequential Model."
   ]
  },
  {
   "cell_type": "markdown",
   "metadata": {},
   "source": [
    "## The Project was split into:"
   ]
  },
  {
   "cell_type": "markdown",
   "metadata": {},
   "source": [
    "1 Creating the data frame for close price. We will only use Close price for this model.\n",
    "\n",
    "2 Scaling the data. We will be using MinMaxScaler.(It will scale data in range[0,1]).\n",
    "\n",
    "3 Reshaping the training data which can be used in the LSTM Model.\n",
    "\n",
    "4 Compile the Model.\n",
    "\n",
    "5 Preparing the test data, feature scaling and reshaping.\n",
    "\n",
    "6 Predicting the output from the test data.\n",
    "\n",
    "7 Scaling the data back to the original format.\n",
    "\n",
    "8 Using polarity and subjectivity scores of TextBlob on the given news dataframe to train it on various models with\n",
    "  closing price as predictor output.\n",
    "  \n",
    "9 Comparing our model's prediction with the actual closing price.\n"
   ]
  },
  {
   "cell_type": "code",
   "execution_count": 1,
   "metadata": {},
   "outputs": [
    {
     "name": "stderr",
     "output_type": "stream",
     "text": [
      "Using TensorFlow backend.\n",
      "[nltk_data] Downloading package stopwords to\n",
      "[nltk_data]     C:\\Users\\akash\\AppData\\Roaming\\nltk_data...\n",
      "[nltk_data]   Package stopwords is already up-to-date!\n",
      "[nltk_data] Downloading package vader_lexicon to\n",
      "[nltk_data]     C:\\Users\\akash\\AppData\\Roaming\\nltk_data...\n",
      "[nltk_data]   Package vader_lexicon is already up-to-date!\n"
     ]
    }
   ],
   "source": [
    "#importing required libraries\n",
    "from sklearn.preprocessing import MinMaxScaler\n",
    "from sklearn.metrics import mean_squared_error\n",
    "from sklearn import metrics \n",
    "from keras.models import Sequential\n",
    "from keras.layers import Dense, LSTM\n",
    "import pandas as pd\n",
    "import matplotlib.pyplot as plt\n",
    "import numpy as np\n",
    "import math\n",
    "import re\n",
    "import nltk\n",
    "import re\n",
    "from nltk.corpus import stopwords\n",
    "nltk.download('stopwords')\n",
    "nltk.download('vader_lexicon')\n",
    "from textblob import TextBlob\n",
    "from nltk.sentiment.vader import SentimentIntensityAnalyzer\n",
    "from sklearn.ensemble import RandomForestRegressor, AdaBoostRegressor\n",
    "import xgboost"
   ]
  },
  {
   "cell_type": "markdown",
   "metadata": {},
   "source": [
    "### Step 1 : Importing the Numerical dataset and performing Exploratory Analysis"
   ]
  },
  {
   "cell_type": "code",
   "execution_count": 2,
   "metadata": {},
   "outputs": [],
   "source": [
    "# For reading stock data from yahoo\n",
    "from pandas_datareader.data import DataReader\n",
    "# For time stamps\n",
    "from datetime import datetime"
   ]
  },
  {
   "cell_type": "code",
   "execution_count": 3,
   "metadata": {},
   "outputs": [
    {
     "data": {
      "text/html": [
       "<div>\n",
       "<style scoped>\n",
       "    .dataframe tbody tr th:only-of-type {\n",
       "        vertical-align: middle;\n",
       "    }\n",
       "\n",
       "    .dataframe tbody tr th {\n",
       "        vertical-align: top;\n",
       "    }\n",
       "\n",
       "    .dataframe thead th {\n",
       "        text-align: right;\n",
       "    }\n",
       "</style>\n",
       "<table border=\"1\" class=\"dataframe\">\n",
       "  <thead>\n",
       "    <tr style=\"text-align: right;\">\n",
       "      <th></th>\n",
       "      <th>Date</th>\n",
       "      <th>Open</th>\n",
       "      <th>High</th>\n",
       "      <th>Low</th>\n",
       "      <th>Close</th>\n",
       "      <th>Adj Close</th>\n",
       "      <th>Volume</th>\n",
       "    </tr>\n",
       "  </thead>\n",
       "  <tbody>\n",
       "    <tr>\n",
       "      <td>0</td>\n",
       "      <td>2016-01-14</td>\n",
       "      <td>24606.199219</td>\n",
       "      <td>25018.460938</td>\n",
       "      <td>24473.220703</td>\n",
       "      <td>24772.970703</td>\n",
       "      <td>24772.970703</td>\n",
       "      <td>14900.0</td>\n",
       "    </tr>\n",
       "    <tr>\n",
       "      <td>1</td>\n",
       "      <td>2016-01-15</td>\n",
       "      <td>24881.759766</td>\n",
       "      <td>24912.640625</td>\n",
       "      <td>24421.529297</td>\n",
       "      <td>24455.039063</td>\n",
       "      <td>24455.039063</td>\n",
       "      <td>12700.0</td>\n",
       "    </tr>\n",
       "    <tr>\n",
       "      <td>2</td>\n",
       "      <td>2016-01-18</td>\n",
       "      <td>24400.779297</td>\n",
       "      <td>24524.849609</td>\n",
       "      <td>24141.990234</td>\n",
       "      <td>24188.369141</td>\n",
       "      <td>24188.369141</td>\n",
       "      <td>13600.0</td>\n",
       "    </tr>\n",
       "    <tr>\n",
       "      <td>3</td>\n",
       "      <td>2016-01-19</td>\n",
       "      <td>24257.279297</td>\n",
       "      <td>24563.339844</td>\n",
       "      <td>24247.230469</td>\n",
       "      <td>24479.839844</td>\n",
       "      <td>24479.839844</td>\n",
       "      <td>9400.0</td>\n",
       "    </tr>\n",
       "    <tr>\n",
       "      <td>4</td>\n",
       "      <td>2016-01-20</td>\n",
       "      <td>24325.769531</td>\n",
       "      <td>24325.769531</td>\n",
       "      <td>23839.759766</td>\n",
       "      <td>24062.039063</td>\n",
       "      <td>24062.039063</td>\n",
       "      <td>12800.0</td>\n",
       "    </tr>\n",
       "  </tbody>\n",
       "</table>\n",
       "</div>"
      ],
      "text/plain": [
       "         Date          Open          High           Low         Close  \\\n",
       "0  2016-01-14  24606.199219  25018.460938  24473.220703  24772.970703   \n",
       "1  2016-01-15  24881.759766  24912.640625  24421.529297  24455.039063   \n",
       "2  2016-01-18  24400.779297  24524.849609  24141.990234  24188.369141   \n",
       "3  2016-01-19  24257.279297  24563.339844  24247.230469  24479.839844   \n",
       "4  2016-01-20  24325.769531  24325.769531  23839.759766  24062.039063   \n",
       "\n",
       "      Adj Close   Volume  \n",
       "0  24772.970703  14900.0  \n",
       "1  24455.039063  12700.0  \n",
       "2  24188.369141  13600.0  \n",
       "3  24479.839844   9400.0  \n",
       "4  24062.039063  12800.0  "
      ]
     },
     "execution_count": 3,
     "metadata": {},
     "output_type": "execute_result"
    }
   ],
   "source": [
    "# Dataframe for exploratory analysis\n",
    "df=pd.read_csv('^BSESN.csv')\n",
    "df.head()"
   ]
  },
  {
   "cell_type": "code",
   "execution_count": 4,
   "metadata": {},
   "outputs": [
    {
     "data": {
      "text/html": [
       "<div>\n",
       "<style scoped>\n",
       "    .dataframe tbody tr th:only-of-type {\n",
       "        vertical-align: middle;\n",
       "    }\n",
       "\n",
       "    .dataframe tbody tr th {\n",
       "        vertical-align: top;\n",
       "    }\n",
       "\n",
       "    .dataframe thead th {\n",
       "        text-align: right;\n",
       "    }\n",
       "</style>\n",
       "<table border=\"1\" class=\"dataframe\">\n",
       "  <thead>\n",
       "    <tr style=\"text-align: right;\">\n",
       "      <th></th>\n",
       "      <th>Date</th>\n",
       "      <th>Open</th>\n",
       "      <th>High</th>\n",
       "      <th>Low</th>\n",
       "      <th>Close</th>\n",
       "      <th>Volume</th>\n",
       "    </tr>\n",
       "  </thead>\n",
       "  <tbody>\n",
       "    <tr>\n",
       "      <td>0</td>\n",
       "      <td>2016-01-14</td>\n",
       "      <td>24606.199219</td>\n",
       "      <td>25018.460938</td>\n",
       "      <td>24473.220703</td>\n",
       "      <td>24772.970703</td>\n",
       "      <td>14900.0</td>\n",
       "    </tr>\n",
       "    <tr>\n",
       "      <td>1</td>\n",
       "      <td>2016-01-15</td>\n",
       "      <td>24881.759766</td>\n",
       "      <td>24912.640625</td>\n",
       "      <td>24421.529297</td>\n",
       "      <td>24455.039063</td>\n",
       "      <td>12700.0</td>\n",
       "    </tr>\n",
       "    <tr>\n",
       "      <td>2</td>\n",
       "      <td>2016-01-18</td>\n",
       "      <td>24400.779297</td>\n",
       "      <td>24524.849609</td>\n",
       "      <td>24141.990234</td>\n",
       "      <td>24188.369141</td>\n",
       "      <td>13600.0</td>\n",
       "    </tr>\n",
       "    <tr>\n",
       "      <td>3</td>\n",
       "      <td>2016-01-19</td>\n",
       "      <td>24257.279297</td>\n",
       "      <td>24563.339844</td>\n",
       "      <td>24247.230469</td>\n",
       "      <td>24479.839844</td>\n",
       "      <td>9400.0</td>\n",
       "    </tr>\n",
       "    <tr>\n",
       "      <td>4</td>\n",
       "      <td>2016-01-20</td>\n",
       "      <td>24325.769531</td>\n",
       "      <td>24325.769531</td>\n",
       "      <td>23839.759766</td>\n",
       "      <td>24062.039063</td>\n",
       "      <td>12800.0</td>\n",
       "    </tr>\n",
       "    <tr>\n",
       "      <td>...</td>\n",
       "      <td>...</td>\n",
       "      <td>...</td>\n",
       "      <td>...</td>\n",
       "      <td>...</td>\n",
       "      <td>...</td>\n",
       "      <td>...</td>\n",
       "    </tr>\n",
       "    <tr>\n",
       "      <td>1260</td>\n",
       "      <td>2021-02-22</td>\n",
       "      <td>50910.511719</td>\n",
       "      <td>50986.031250</td>\n",
       "      <td>49617.371094</td>\n",
       "      <td>49744.320313</td>\n",
       "      <td>16300.0</td>\n",
       "    </tr>\n",
       "    <tr>\n",
       "      <td>1261</td>\n",
       "      <td>2021-02-23</td>\n",
       "      <td>49994.851563</td>\n",
       "      <td>50327.308594</td>\n",
       "      <td>49659.851563</td>\n",
       "      <td>49751.410156</td>\n",
       "      <td>14900.0</td>\n",
       "    </tr>\n",
       "    <tr>\n",
       "      <td>1262</td>\n",
       "      <td>2021-02-24</td>\n",
       "      <td>49763.941406</td>\n",
       "      <td>50881.171875</td>\n",
       "      <td>49648.781250</td>\n",
       "      <td>50781.691406</td>\n",
       "      <td>45900.0</td>\n",
       "    </tr>\n",
       "    <tr>\n",
       "      <td>1263</td>\n",
       "      <td>2021-02-25</td>\n",
       "      <td>51207.609375</td>\n",
       "      <td>51386.121094</td>\n",
       "      <td>50991.761719</td>\n",
       "      <td>51039.308594</td>\n",
       "      <td>33500.0</td>\n",
       "    </tr>\n",
       "    <tr>\n",
       "      <td>1264</td>\n",
       "      <td>2021-02-26</td>\n",
       "      <td>50256.710938</td>\n",
       "      <td>50400.308594</td>\n",
       "      <td>48890.480469</td>\n",
       "      <td>49099.988281</td>\n",
       "      <td>23100.0</td>\n",
       "    </tr>\n",
       "  </tbody>\n",
       "</table>\n",
       "<p>1265 rows × 6 columns</p>\n",
       "</div>"
      ],
      "text/plain": [
       "            Date          Open          High           Low         Close  \\\n",
       "0     2016-01-14  24606.199219  25018.460938  24473.220703  24772.970703   \n",
       "1     2016-01-15  24881.759766  24912.640625  24421.529297  24455.039063   \n",
       "2     2016-01-18  24400.779297  24524.849609  24141.990234  24188.369141   \n",
       "3     2016-01-19  24257.279297  24563.339844  24247.230469  24479.839844   \n",
       "4     2016-01-20  24325.769531  24325.769531  23839.759766  24062.039063   \n",
       "...          ...           ...           ...           ...           ...   \n",
       "1260  2021-02-22  50910.511719  50986.031250  49617.371094  49744.320313   \n",
       "1261  2021-02-23  49994.851563  50327.308594  49659.851563  49751.410156   \n",
       "1262  2021-02-24  49763.941406  50881.171875  49648.781250  50781.691406   \n",
       "1263  2021-02-25  51207.609375  51386.121094  50991.761719  51039.308594   \n",
       "1264  2021-02-26  50256.710938  50400.308594  48890.480469  49099.988281   \n",
       "\n",
       "       Volume  \n",
       "0     14900.0  \n",
       "1     12700.0  \n",
       "2     13600.0  \n",
       "3      9400.0  \n",
       "4     12800.0  \n",
       "...       ...  \n",
       "1260  16300.0  \n",
       "1261  14900.0  \n",
       "1262  45900.0  \n",
       "1263  33500.0  \n",
       "1264  23100.0  \n",
       "\n",
       "[1265 rows x 6 columns]"
      ]
     },
     "execution_count": 4,
     "metadata": {},
     "output_type": "execute_result"
    }
   ],
   "source": [
    "df=df[[\"Date\",\"Open\",\"High\",\"Low\",\"Close\",\"Volume\"]]\n",
    "df.head(-5)"
   ]
  },
  {
   "cell_type": "code",
   "execution_count": 5,
   "metadata": {},
   "outputs": [
    {
     "name": "stdout",
     "output_type": "stream",
     "text": [
      "<class 'pandas.core.frame.DataFrame'>\n",
      "RangeIndex: 1270 entries, 0 to 1269\n",
      "Data columns (total 6 columns):\n",
      "Date      1270 non-null datetime64[ns]\n",
      "Open      1265 non-null float64\n",
      "High      1265 non-null float64\n",
      "Low       1265 non-null float64\n",
      "Close     1265 non-null float64\n",
      "Volume    1265 non-null float64\n",
      "dtypes: datetime64[ns](1), float64(5)\n",
      "memory usage: 59.7 KB\n"
     ]
    }
   ],
   "source": [
    "# Check for common information of the second dataset\n",
    "df[\"Date\"]= pd.to_datetime(df[\"Date\"])\n",
    "df.info()\n"
   ]
  },
  {
   "cell_type": "code",
   "execution_count": 6,
   "metadata": {},
   "outputs": [
    {
     "name": "stderr",
     "output_type": "stream",
     "text": [
      "C:\\Users\\akash\\Anaconda3\\lib\\site-packages\\pandas\\plotting\\_matplotlib\\converter.py:103: FutureWarning: Using an implicitly registered datetime converter for a matplotlib plotting method. The converter was registered by pandas on import. Future versions of pandas will require you to explicitly register matplotlib converters.\n",
      "\n",
      "To register the converters:\n",
      "\t>>> from pandas.plotting import register_matplotlib_converters\n",
      "\t>>> register_matplotlib_converters()\n",
      "  warnings.warn(msg, FutureWarning)\n"
     ]
    },
    {
     "data": {
      "text/plain": [
       "[<matplotlib.lines.Line2D at 0x214defa8088>]"
      ]
     },
     "execution_count": 6,
     "metadata": {},
     "output_type": "execute_result"
    },
    {
     "data": {
      "image/png": "[encoded data removed]",
      "text/plain": [
       "<Figure size 1152x576 with 1 Axes>"
      ]
     },
     "metadata": {
      "needs_background": "light"
     },
     "output_type": "display_data"
    }
   ],
   "source": [
    "# Extract date frame and plot closing stock price w.r.t time\n",
    "df.index = df['Date']\n",
    "df.dropna(inplace=True)\n",
    "#plot\n",
    "plt.figure(figsize=(16,8))\n",
    "plt.plot(df['Close'], label='Close Price history')"
   ]
  },
  {
   "cell_type": "code",
   "execution_count": 7,
   "metadata": {},
   "outputs": [],
   "source": [
    "# fix random seed for reproducibility\n",
    "np.random.seed(7)"
   ]
  },
  {
   "cell_type": "markdown",
   "metadata": {},
   "source": [
    "### Step 2 : Creating a dataframe for storing the Closing stock data per day"
   ]
  },
  {
   "cell_type": "code",
   "execution_count": 8,
   "metadata": {},
   "outputs": [],
   "source": [
    "# convert an array of values into a dataset matrix\n",
    "def create_dataset(df2, look_back=1):\n",
    "\tdataX, dataY = [], []\n",
    "\tfor i in range(len(df2)-look_back-1):\n",
    "\t\ta = df2[i:(i+look_back), 0]\n",
    "\t\tdataX.append(a)\n",
    "\t\tdataY.append(df2[i + look_back, 0])\n",
    "\treturn np.array(dataX), np.array(dataY)"
   ]
  },
  {
   "cell_type": "code",
   "execution_count": 9,
   "metadata": {},
   "outputs": [],
   "source": [
    "df2 = pd.read_csv('^BSESN.csv', usecols=[5], engine='python')\n",
    "df2.dropna(inplace=True)\n",
    "df2 = df2.values\n",
    "df2 = df2.astype('float32')"
   ]
  },
  {
   "cell_type": "markdown",
   "metadata": {},
   "source": [
    "### Step 3 : Data Normalization and Division into Training and Test sets¶\n"
   ]
  },
  {
   "cell_type": "code",
   "execution_count": 25,
   "metadata": {},
   "outputs": [],
   "source": [
    "# normalize the dataset\n",
    "scaler = MinMaxScaler(feature_range=(0, 1))\n",
    "df2 = scaler.fit_transform(df2)\n",
    "\n",
    "# split into train and test sets\n",
    "train_size = int(len(df2) * 0.67)\n",
    "test_size = len(df2) - train_size\n",
    "train, test = df2[0:train_size,:], df2[train_size:len(df2),:]"
   ]
  },
  {
   "cell_type": "code",
   "execution_count": 26,
   "metadata": {},
   "outputs": [],
   "source": [
    "# reshape into X=t and Y=t+1\n",
    "look_back = 4\n",
    "trainX, trainY = create_dataset(train, look_back)\n",
    "testX, testY = create_dataset(test, look_back)\n",
    "# reshape input to be [samples, time steps, features]\n",
    "trainX = np.reshape(trainX, (trainX.shape[0], trainX.shape[1], 1))\n",
    "testX = np.reshape(testX, (testX.shape[0], testX.shape[1], 1))"
   ]
  },
  {
   "cell_type": "code",
   "execution_count": 27,
   "metadata": {},
   "outputs": [
    {
     "data": {
      "text/plain": [
       "((842, 4, 1), (413, 4, 1))"
      ]
     },
     "execution_count": 27,
     "metadata": {},
     "output_type": "execute_result"
    }
   ],
   "source": [
    "trainX.shape,testX.shape"
   ]
  },
  {
   "cell_type": "code",
   "execution_count": 28,
   "metadata": {
    "scrolled": false
   },
   "outputs": [
    {
     "name": "stdout",
     "output_type": "stream",
     "text": [
      "Epoch 1/15\n",
      " - 3s - loss: 0.0036\n",
      "Epoch 2/15\n",
      " - 1s - loss: 1.7428e-04\n",
      "Epoch 3/15\n",
      " - 2s - loss: 1.6587e-04\n",
      "Epoch 4/15\n",
      " - 2s - loss: 1.6497e-04\n",
      "Epoch 5/15\n",
      " - 2s - loss: 1.6587e-04\n",
      "Epoch 6/15\n",
      " - 2s - loss: 1.6680e-04\n",
      "Epoch 7/15\n",
      " - 1s - loss: 1.6616e-04\n",
      "Epoch 8/15\n",
      " - 1s - loss: 1.7352e-04\n",
      "Epoch 9/15\n",
      " - 1s - loss: 1.5949e-04\n",
      "Epoch 10/15\n",
      " - 1s - loss: 1.5867e-04\n",
      "Epoch 11/15\n",
      " - 1s - loss: 1.6620e-04\n",
      "Epoch 12/15\n",
      " - 1s - loss: 1.6706e-04\n",
      "Epoch 13/15\n",
      " - 1s - loss: 1.5840e-04\n",
      "Epoch 14/15\n",
      " - 2s - loss: 1.6558e-04\n",
      "Epoch 15/15\n",
      " - 2s - loss: 1.7346e-04\n"
     ]
    },
    {
     "data": {
      "text/plain": [
       "<keras.callbacks.callbacks.History at 0x214e48d98c8>"
      ]
     },
     "execution_count": 28,
     "metadata": {},
     "output_type": "execute_result"
    }
   ],
   "source": [
    "# create and fit the LSTM network\n",
    "model = Sequential()\n",
    "model.add(LSTM(4, input_shape=(look_back, 1)))\n",
    "model.add(Dense(1))\n",
    "model.compile(loss='mean_squared_error', optimizer='adam')\n",
    "model.fit(trainX, trainY, epochs=15, batch_size=2, verbose=2)"
   ]
  },
  {
   "cell_type": "code",
   "execution_count": 29,
   "metadata": {},
   "outputs": [],
   "source": [
    "# make predictions\n",
    "trainPredict = model.predict(trainX)\n",
    "testPredict = model.predict(testX)\n",
    "\n",
    "trainP=trainPredict\n",
    "testP=testPredict\n",
    "\n",
    "# invert predictions\n",
    "trainPredict = scaler.inverse_transform(trainPredict)\n",
    "trainY = scaler.inverse_transform([trainY])\n",
    "testPredict = scaler.inverse_transform(testPredict)\n",
    "testY = scaler.inverse_transform([testY])"
   ]
  },
  {
   "cell_type": "markdown",
   "metadata": {},
   "source": [
    "### Step 5 : Making Predictions"
   ]
  },
  {
   "cell_type": "code",
   "execution_count": 30,
   "metadata": {},
   "outputs": [
    {
     "data": {
      "image/png": "[encoded data removed]",
      "text/plain": [
       "<Figure size 1440x720 with 1 Axes>"
      ]
     },
     "metadata": {
      "needs_background": "light"
     },
     "output_type": "display_data"
    }
   ],
   "source": [
    "# shift train predictions for plotting\n",
    "trainPredictPlot = np.empty_like(df2)\n",
    "trainPredictPlot[:, :] = np.nan\n",
    "trainPredictPlot[look_back:len(trainPredict)+look_back, :] = trainPredict\n",
    "# shift test predictions for plotting\n",
    "testPredictPlot = np.empty_like(df2)\n",
    "testPredictPlot[:, :] = np.nan\n",
    "testPredictPlot[len(trainPredict)+(look_back*2)+1:len(df2)-1, :] = testPredict\n",
    "# plot baseline and predictions\n",
    "plt.figure(figsize = (20,10))\n",
    "plt.plot(scaler.inverse_transform(df2),color='black')\n",
    "plt.plot(trainPredictPlot,color='red')\n",
    "plt.plot(testPredictPlot,color='green')\n",
    "plt.show()"
   ]
  },
  {
   "cell_type": "code",
   "execution_count": 31,
   "metadata": {},
   "outputs": [
    {
     "name": "stdout",
     "output_type": "stream",
     "text": [
      "Root mean square error =  0.01163329376017549  RMSE\n",
      "Root mean square error =  0.03795225110365662  RMSE\n"
     ]
    }
   ],
   "source": [
    "# calculate root mean squared error\n",
    "trainScore = math.sqrt(mean_squared_error(trainY[0], trainPredict[:,0]))\n",
    "print(\"Root mean square error = \",trainScore,\" RMSE\")\n",
    "testScore = math.sqrt(mean_squared_error(testY[0], testPredict[:,0]))\n",
    "print(\"Root mean square error = \",testScore,\" RMSE\")"
   ]
  },
  {
   "cell_type": "code",
   "execution_count": 32,
   "metadata": {},
   "outputs": [
    {
     "name": "stderr",
     "output_type": "stream",
     "text": [
      "C:\\Users\\akash\\Anaconda3\\lib\\site-packages\\IPython\\core\\interactiveshell.py:3058: DtypeWarning: Columns (0) have mixed types. Specify dtype option on import or set low_memory=False.\n",
      "  interactivity=interactivity, compiler=compiler, result=result)\n"
     ]
    }
   ],
   "source": [
    "# Load the news dataset\n",
    "columns=['Date','Category','News']\n",
    "ndf = pd.read_csv(\"india-news-headlines.csv\",names=columns)"
   ]
  },
  {
   "cell_type": "code",
   "execution_count": 33,
   "metadata": {},
   "outputs": [
    {
     "name": "stdout",
     "output_type": "stream",
     "text": [
      "Showing part of the whole dataset:\n"
     ]
    },
    {
     "data": {
      "text/html": [
       "<div>\n",
       "<style scoped>\n",
       "    .dataframe tbody tr th:only-of-type {\n",
       "        vertical-align: middle;\n",
       "    }\n",
       "\n",
       "    .dataframe tbody tr th {\n",
       "        vertical-align: top;\n",
       "    }\n",
       "\n",
       "    .dataframe thead th {\n",
       "        text-align: right;\n",
       "    }\n",
       "</style>\n",
       "<table border=\"1\" class=\"dataframe\">\n",
       "  <thead>\n",
       "    <tr style=\"text-align: right;\">\n",
       "      <th></th>\n",
       "      <th>Date</th>\n",
       "      <th>Category</th>\n",
       "      <th>News</th>\n",
       "    </tr>\n",
       "  </thead>\n",
       "  <tbody>\n",
       "    <tr>\n",
       "      <td>0</td>\n",
       "      <td>publish_date</td>\n",
       "      <td>headline_category</td>\n",
       "      <td>headline_text</td>\n",
       "    </tr>\n",
       "    <tr>\n",
       "      <td>1</td>\n",
       "      <td>20010102</td>\n",
       "      <td>unknown</td>\n",
       "      <td>Status quo will not be disturbed at Ayodhya; s...</td>\n",
       "    </tr>\n",
       "    <tr>\n",
       "      <td>2</td>\n",
       "      <td>20010102</td>\n",
       "      <td>unknown</td>\n",
       "      <td>Fissures in Hurriyat over Pak visit</td>\n",
       "    </tr>\n",
       "    <tr>\n",
       "      <td>3</td>\n",
       "      <td>20010102</td>\n",
       "      <td>unknown</td>\n",
       "      <td>America's unwanted heading for India?</td>\n",
       "    </tr>\n",
       "    <tr>\n",
       "      <td>4</td>\n",
       "      <td>20010102</td>\n",
       "      <td>unknown</td>\n",
       "      <td>For bigwigs; it is destination Goa</td>\n",
       "    </tr>\n",
       "  </tbody>\n",
       "</table>\n",
       "</div>"
      ],
      "text/plain": [
       "           Date           Category  \\\n",
       "0  publish_date  headline_category   \n",
       "1      20010102            unknown   \n",
       "2      20010102            unknown   \n",
       "3      20010102            unknown   \n",
       "4      20010102            unknown   \n",
       "\n",
       "                                                News  \n",
       "0                                      headline_text  \n",
       "1  Status quo will not be disturbed at Ayodhya; s...  \n",
       "2                Fissures in Hurriyat over Pak visit  \n",
       "3              America's unwanted heading for India?  \n",
       "4                 For bigwigs; it is destination Goa  "
      ]
     },
     "execution_count": 33,
     "metadata": {},
     "output_type": "execute_result"
    }
   ],
   "source": [
    "print('Showing part of the whole dataset:')\n",
    "ndf.head(5)"
   ]
  },
  {
   "cell_type": "code",
   "execution_count": 34,
   "metadata": {},
   "outputs": [
    {
     "name": "stdout",
     "output_type": "stream",
     "text": [
      "Showing part of the whole dataset:\n"
     ]
    },
    {
     "data": {
      "text/html": [
       "<div>\n",
       "<style scoped>\n",
       "    .dataframe tbody tr th:only-of-type {\n",
       "        vertical-align: middle;\n",
       "    }\n",
       "\n",
       "    .dataframe tbody tr th {\n",
       "        vertical-align: top;\n",
       "    }\n",
       "\n",
       "    .dataframe thead th {\n",
       "        text-align: right;\n",
       "    }\n",
       "</style>\n",
       "<table border=\"1\" class=\"dataframe\">\n",
       "  <thead>\n",
       "    <tr style=\"text-align: right;\">\n",
       "      <th></th>\n",
       "      <th>Date</th>\n",
       "      <th>News</th>\n",
       "    </tr>\n",
       "  </thead>\n",
       "  <tbody>\n",
       "    <tr>\n",
       "      <td>1</td>\n",
       "      <td>20010102</td>\n",
       "      <td>Status quo will not be disturbed at Ayodhya; s...</td>\n",
       "    </tr>\n",
       "    <tr>\n",
       "      <td>2</td>\n",
       "      <td>20010102</td>\n",
       "      <td>Fissures in Hurriyat over Pak visit</td>\n",
       "    </tr>\n",
       "    <tr>\n",
       "      <td>3</td>\n",
       "      <td>20010102</td>\n",
       "      <td>America's unwanted heading for India?</td>\n",
       "    </tr>\n",
       "    <tr>\n",
       "      <td>4</td>\n",
       "      <td>20010102</td>\n",
       "      <td>For bigwigs; it is destination Goa</td>\n",
       "    </tr>\n",
       "    <tr>\n",
       "      <td>5</td>\n",
       "      <td>20010102</td>\n",
       "      <td>Extra buses to clear tourist traffic</td>\n",
       "    </tr>\n",
       "    <tr>\n",
       "      <td>...</td>\n",
       "      <td>...</td>\n",
       "      <td>...</td>\n",
       "    </tr>\n",
       "    <tr>\n",
       "      <td>3424058</td>\n",
       "      <td>20201231</td>\n",
       "      <td>50 NRIs reach Singhu; offer help to farmers</td>\n",
       "    </tr>\n",
       "    <tr>\n",
       "      <td>3424059</td>\n",
       "      <td>20201231</td>\n",
       "      <td>Navjot Singh Sidhu tweets apology; says 'wore ...</td>\n",
       "    </tr>\n",
       "    <tr>\n",
       "      <td>3424060</td>\n",
       "      <td>20201231</td>\n",
       "      <td>Azim Premji organisation's name misused to che...</td>\n",
       "    </tr>\n",
       "    <tr>\n",
       "      <td>3424061</td>\n",
       "      <td>20201231</td>\n",
       "      <td>Get govt nod to probe officials: MP to agencies</td>\n",
       "    </tr>\n",
       "    <tr>\n",
       "      <td>3424062</td>\n",
       "      <td>20201231</td>\n",
       "      <td>Peddler nabbed; 10kg ganja seized in Anantapur...</td>\n",
       "    </tr>\n",
       "  </tbody>\n",
       "</table>\n",
       "<p>3424062 rows × 2 columns</p>\n",
       "</div>"
      ],
      "text/plain": [
       "             Date                                               News\n",
       "1        20010102  Status quo will not be disturbed at Ayodhya; s...\n",
       "2        20010102                Fissures in Hurriyat over Pak visit\n",
       "3        20010102              America's unwanted heading for India?\n",
       "4        20010102                 For bigwigs; it is destination Goa\n",
       "5        20010102               Extra buses to clear tourist traffic\n",
       "...           ...                                                ...\n",
       "3424058  20201231        50 NRIs reach Singhu; offer help to farmers\n",
       "3424059  20201231  Navjot Singh Sidhu tweets apology; says 'wore ...\n",
       "3424060  20201231  Azim Premji organisation's name misused to che...\n",
       "3424061  20201231    Get govt nod to probe officials: MP to agencies\n",
       "3424062  20201231  Peddler nabbed; 10kg ganja seized in Anantapur...\n",
       "\n",
       "[3424062 rows x 2 columns]"
      ]
     },
     "execution_count": 34,
     "metadata": {},
     "output_type": "execute_result"
    }
   ],
   "source": [
    "ndf.drop(0, inplace=True)\n",
    "ndf.drop('Category', axis = 1, inplace=True)\n",
    "print('Showing part of the whole dataset:')\n",
    "ndf.head(-5)"
   ]
  },
  {
   "cell_type": "code",
   "execution_count": 35,
   "metadata": {},
   "outputs": [
    {
     "name": "stdout",
     "output_type": "stream",
     "text": [
      "<class 'pandas.core.frame.DataFrame'>\n",
      "Int64Index: 3424067 entries, 1 to 3424067\n",
      "Data columns (total 2 columns):\n",
      "Date    datetime64[ns]\n",
      "News    object\n",
      "dtypes: datetime64[ns](1), object(1)\n",
      "memory usage: 78.4+ MB\n"
     ]
    }
   ],
   "source": [
    "# Check for common information of the news datast\n",
    "ndf[\"Date\"] = pd.to_datetime(ndf[\"Date\"],format='%Y%m%d')\n",
    "ndf.info()"
   ]
  },
  {
   "cell_type": "code",
   "execution_count": 36,
   "metadata": {},
   "outputs": [],
   "source": [
    "# Group the headlines for each day\n",
    "ndf['News'] = ndf.groupby(['Date']).transform(lambda x : ' '.join(x)) \n",
    "ndf = ndf.drop_duplicates() \n",
    "ndf.reset_index(inplace=True,drop=True)"
   ]
  },
  {
   "cell_type": "code",
   "execution_count": 39,
   "metadata": {},
   "outputs": [
    {
     "data": {
      "text/html": [
       "<div>\n",
       "<style scoped>\n",
       "    .dataframe tbody tr th:only-of-type {\n",
       "        vertical-align: middle;\n",
       "    }\n",
       "\n",
       "    .dataframe tbody tr th {\n",
       "        vertical-align: top;\n",
       "    }\n",
       "\n",
       "    .dataframe thead th {\n",
       "        text-align: right;\n",
       "    }\n",
       "</style>\n",
       "<table border=\"1\" class=\"dataframe\">\n",
       "  <thead>\n",
       "    <tr style=\"text-align: right;\">\n",
       "      <th></th>\n",
       "      <th>Date</th>\n",
       "      <th>News</th>\n",
       "    </tr>\n",
       "  </thead>\n",
       "  <tbody>\n",
       "    <tr>\n",
       "      <td>0</td>\n",
       "      <td>2001-01-02</td>\n",
       "      <td>Status quo will not be disturbed at Ayodhya; s...</td>\n",
       "    </tr>\n",
       "    <tr>\n",
       "      <td>1</td>\n",
       "      <td>2001-01-03</td>\n",
       "      <td>Powerless north India gropes in the dark Think...</td>\n",
       "    </tr>\n",
       "    <tr>\n",
       "      <td>2</td>\n",
       "      <td>2001-01-04</td>\n",
       "      <td>The string that pulled Stephen Hawking to Indi...</td>\n",
       "    </tr>\n",
       "    <tr>\n",
       "      <td>3</td>\n",
       "      <td>2001-01-05</td>\n",
       "      <td>Light combat craft takes India into club class...</td>\n",
       "    </tr>\n",
       "    <tr>\n",
       "      <td>4</td>\n",
       "      <td>2001-01-06</td>\n",
       "      <td>Light combat craft takes India into club class...</td>\n",
       "    </tr>\n",
       "    <tr>\n",
       "      <td>...</td>\n",
       "      <td>...</td>\n",
       "      <td>...</td>\n",
       "    </tr>\n",
       "    <tr>\n",
       "      <td>7257</td>\n",
       "      <td>2020-12-27</td>\n",
       "      <td>#BigInterview! Dhritiman Chatterjee: Nobody da...</td>\n",
       "    </tr>\n",
       "    <tr>\n",
       "      <td>7258</td>\n",
       "      <td>2020-12-28</td>\n",
       "      <td>Horoscope Today; 28 December 2020: Check astro...</td>\n",
       "    </tr>\n",
       "    <tr>\n",
       "      <td>7259</td>\n",
       "      <td>2020-12-29</td>\n",
       "      <td>Man recovers charred remains of 'thief' from h...</td>\n",
       "    </tr>\n",
       "    <tr>\n",
       "      <td>7260</td>\n",
       "      <td>2020-12-30</td>\n",
       "      <td>Numerology Readings 30 December 2020: Predicti...</td>\n",
       "    </tr>\n",
       "    <tr>\n",
       "      <td>7261</td>\n",
       "      <td>2020-12-31</td>\n",
       "      <td>Horoscope Today; 31 December 2020: Check astro...</td>\n",
       "    </tr>\n",
       "  </tbody>\n",
       "</table>\n",
       "<p>7262 rows × 2 columns</p>\n",
       "</div>"
      ],
      "text/plain": [
       "           Date                                               News\n",
       "0    2001-01-02  Status quo will not be disturbed at Ayodhya; s...\n",
       "1    2001-01-03  Powerless north India gropes in the dark Think...\n",
       "2    2001-01-04  The string that pulled Stephen Hawking to Indi...\n",
       "3    2001-01-05  Light combat craft takes India into club class...\n",
       "4    2001-01-06  Light combat craft takes India into club class...\n",
       "...         ...                                                ...\n",
       "7257 2020-12-27  #BigInterview! Dhritiman Chatterjee: Nobody da...\n",
       "7258 2020-12-28  Horoscope Today; 28 December 2020: Check astro...\n",
       "7259 2020-12-29  Man recovers charred remains of 'thief' from h...\n",
       "7260 2020-12-30  Numerology Readings 30 December 2020: Predicti...\n",
       "7261 2020-12-31  Horoscope Today; 31 December 2020: Check astro...\n",
       "\n",
       "[7262 rows x 2 columns]"
      ]
     },
     "execution_count": 39,
     "metadata": {},
     "output_type": "execute_result"
    }
   ],
   "source": [
    "ndf"
   ]
  },
  {
   "cell_type": "code",
   "execution_count": 40,
   "metadata": {},
   "outputs": [
    {
     "data": {
      "text/plain": [
       "Date    0\n",
       "News    0\n",
       "dtype: int64"
      ]
     },
     "execution_count": 40,
     "metadata": {},
     "output_type": "execute_result"
    }
   ],
   "source": [
    "# Check for any duplicated values\n",
    "ndf.isnull().sum()"
   ]
  },
  {
   "cell_type": "markdown",
   "metadata": {},
   "source": [
    "### Remove Unwanted Characters from the News"
   ]
  },
  {
   "cell_type": "code",
   "execution_count": 41,
   "metadata": {},
   "outputs": [
    {
     "data": {
      "text/plain": [
       "0    Status quo will not be disturbed at Ayodhya  s...\n",
       "1    Powerless north India gropes in the dark Think...\n",
       "2    The string that pulled Stephen Hawking to Indi...\n",
       "3    Light combat craft takes India into club class...\n",
       "4    Light combat craft takes India into club class...\n",
       "Name: News, dtype: object"
      ]
     },
     "execution_count": 41,
     "metadata": {},
     "output_type": "execute_result"
    }
   ],
   "source": [
    "#removing unwanted characters from the News\n",
    "ndf.replace(\"[^a-zA-Z']\",\" \",regex=True,inplace=True)\n",
    "ndf[\"News\"].head(5)"
   ]
  },
  {
   "cell_type": "markdown",
   "metadata": {},
   "source": [
    "## Textual Analysis"
   ]
  },
  {
   "cell_type": "code",
   "execution_count": 42,
   "metadata": {},
   "outputs": [],
   "source": [
    "#Functions to get the subjectivity and polarity\n",
    "def getSubjectivity(text):\n",
    "  return TextBlob(text).sentiment.subjectivity\n",
    "\n",
    "def getPolarity(text):\n",
    "  return  TextBlob(text).sentiment.polarity"
   ]
  },
  {
   "cell_type": "code",
   "execution_count": 43,
   "metadata": {},
   "outputs": [
    {
     "data": {
      "text/html": [
       "<div>\n",
       "<style scoped>\n",
       "    .dataframe tbody tr th:only-of-type {\n",
       "        vertical-align: middle;\n",
       "    }\n",
       "\n",
       "    .dataframe tbody tr th {\n",
       "        vertical-align: top;\n",
       "    }\n",
       "\n",
       "    .dataframe thead th {\n",
       "        text-align: right;\n",
       "    }\n",
       "</style>\n",
       "<table border=\"1\" class=\"dataframe\">\n",
       "  <thead>\n",
       "    <tr style=\"text-align: right;\">\n",
       "      <th></th>\n",
       "      <th>Date</th>\n",
       "      <th>News</th>\n",
       "      <th>Subjectivity</th>\n",
       "      <th>Polarity</th>\n",
       "    </tr>\n",
       "  </thead>\n",
       "  <tbody>\n",
       "    <tr>\n",
       "      <td>0</td>\n",
       "      <td>2001-01-02</td>\n",
       "      <td>Status quo will not be disturbed at Ayodhya  s...</td>\n",
       "      <td>0.286859</td>\n",
       "      <td>0.143590</td>\n",
       "    </tr>\n",
       "    <tr>\n",
       "      <td>1</td>\n",
       "      <td>2001-01-03</td>\n",
       "      <td>Powerless north India gropes in the dark Think...</td>\n",
       "      <td>0.392857</td>\n",
       "      <td>0.089286</td>\n",
       "    </tr>\n",
       "    <tr>\n",
       "      <td>2</td>\n",
       "      <td>2001-01-04</td>\n",
       "      <td>The string that pulled Stephen Hawking to Indi...</td>\n",
       "      <td>0.445360</td>\n",
       "      <td>0.093039</td>\n",
       "    </tr>\n",
       "    <tr>\n",
       "      <td>3</td>\n",
       "      <td>2001-01-05</td>\n",
       "      <td>Light combat craft takes India into club class...</td>\n",
       "      <td>0.480553</td>\n",
       "      <td>0.264024</td>\n",
       "    </tr>\n",
       "    <tr>\n",
       "      <td>4</td>\n",
       "      <td>2001-01-06</td>\n",
       "      <td>Light combat craft takes India into club class...</td>\n",
       "      <td>0.439394</td>\n",
       "      <td>0.248485</td>\n",
       "    </tr>\n",
       "    <tr>\n",
       "      <td>...</td>\n",
       "      <td>...</td>\n",
       "      <td>...</td>\n",
       "      <td>...</td>\n",
       "      <td>...</td>\n",
       "    </tr>\n",
       "    <tr>\n",
       "      <td>7257</td>\n",
       "      <td>2020-12-27</td>\n",
       "      <td>BigInterview  Dhritiman Chatterjee  Nobody da...</td>\n",
       "      <td>0.392082</td>\n",
       "      <td>0.042978</td>\n",
       "    </tr>\n",
       "    <tr>\n",
       "      <td>7258</td>\n",
       "      <td>2020-12-28</td>\n",
       "      <td>Horoscope Today     December       Check astro...</td>\n",
       "      <td>0.409973</td>\n",
       "      <td>0.071405</td>\n",
       "    </tr>\n",
       "    <tr>\n",
       "      <td>7259</td>\n",
       "      <td>2020-12-29</td>\n",
       "      <td>Man recovers charred remains of 'thief' from h...</td>\n",
       "      <td>0.415684</td>\n",
       "      <td>0.060775</td>\n",
       "    </tr>\n",
       "    <tr>\n",
       "      <td>7260</td>\n",
       "      <td>2020-12-30</td>\n",
       "      <td>Numerology Readings    December       Predicti...</td>\n",
       "      <td>0.436863</td>\n",
       "      <td>0.046930</td>\n",
       "    </tr>\n",
       "    <tr>\n",
       "      <td>7261</td>\n",
       "      <td>2020-12-31</td>\n",
       "      <td>Horoscope Today     December       Check astro...</td>\n",
       "      <td>0.408454</td>\n",
       "      <td>0.091829</td>\n",
       "    </tr>\n",
       "  </tbody>\n",
       "</table>\n",
       "<p>7262 rows × 4 columns</p>\n",
       "</div>"
      ],
      "text/plain": [
       "           Date                                               News  \\\n",
       "0    2001-01-02  Status quo will not be disturbed at Ayodhya  s...   \n",
       "1    2001-01-03  Powerless north India gropes in the dark Think...   \n",
       "2    2001-01-04  The string that pulled Stephen Hawking to Indi...   \n",
       "3    2001-01-05  Light combat craft takes India into club class...   \n",
       "4    2001-01-06  Light combat craft takes India into club class...   \n",
       "...         ...                                                ...   \n",
       "7257 2020-12-27   BigInterview  Dhritiman Chatterjee  Nobody da...   \n",
       "7258 2020-12-28  Horoscope Today     December       Check astro...   \n",
       "7259 2020-12-29  Man recovers charred remains of 'thief' from h...   \n",
       "7260 2020-12-30  Numerology Readings    December       Predicti...   \n",
       "7261 2020-12-31  Horoscope Today     December       Check astro...   \n",
       "\n",
       "      Subjectivity  Polarity  \n",
       "0         0.286859  0.143590  \n",
       "1         0.392857  0.089286  \n",
       "2         0.445360  0.093039  \n",
       "3         0.480553  0.264024  \n",
       "4         0.439394  0.248485  \n",
       "...            ...       ...  \n",
       "7257      0.392082  0.042978  \n",
       "7258      0.409973  0.071405  \n",
       "7259      0.415684  0.060775  \n",
       "7260      0.436863  0.046930  \n",
       "7261      0.408454  0.091829  \n",
       "\n",
       "[7262 rows x 4 columns]"
      ]
     },
     "execution_count": 43,
     "metadata": {},
     "output_type": "execute_result"
    }
   ],
   "source": [
    "#Adding subjectivity and polarity columns\n",
    "ndf['Subjectivity'] = ndf['News'].apply(getSubjectivity)\n",
    "ndf['Polarity'] = ndf['News'].apply(getPolarity)\n",
    "ndf"
   ]
  },
  {
   "cell_type": "markdown",
   "metadata": {},
   "source": [
    "### Visualizing the polarity and Subjectivity scores¶\n"
   ]
  },
  {
   "cell_type": "code",
   "execution_count": 58,
   "metadata": {},
   "outputs": [
    {
     "data": {
      "text/plain": [
       "<matplotlib.axes._subplots.AxesSubplot at 0x2149e81d5c8>"
      ]
     },
     "execution_count": 58,
     "metadata": {},
     "output_type": "execute_result"
    },
    {
     "data": {
      "image/png": "[encoded data removed]",
      "text/plain": [
       "<Figure size 720x432 with 1 Axes>"
      ]
     },
     "metadata": {
      "needs_background": "light"
     },
     "output_type": "display_data"
    }
   ],
   "source": [
    "plt.figure(figsize = (10,6))\n",
    "ndf['Polarity'].hist(color = 'red')"
   ]
  },
  {
   "cell_type": "code",
   "execution_count": 59,
   "metadata": {},
   "outputs": [
    {
     "data": {
      "text/plain": [
       "<matplotlib.axes._subplots.AxesSubplot at 0x21498358a08>"
      ]
     },
     "execution_count": 59,
     "metadata": {},
     "output_type": "execute_result"
    },
    {
     "data": {
      "image/png": "[encoded data removed]",
      "text/plain": [
       "<Figure size 720x432 with 1 Axes>"
      ]
     },
     "metadata": {
      "needs_background": "light"
     },
     "output_type": "display_data"
    }
   ],
   "source": [
    "plt.figure(figsize = (10,6))\n",
    "ndf['Subjectivity'].hist(color = 'green')"
   ]
  },
  {
   "cell_type": "code",
   "execution_count": 147,
   "metadata": {},
   "outputs": [],
   "source": [
    "#Adding sentiment score to df_news\n",
    "sia = SentimentIntensityAnalyzer()"
   ]
  },
  {
   "cell_type": "code",
   "execution_count": null,
   "metadata": {},
   "outputs": [],
   "source": [
    "ndf['Compound'] = [sia.polarity_scores(v)['compound'] for v in ndf['News']]\n",
    "ndf['Negative'] = [sia.polarity_scores(v)['neg'] for v in ndf['News']]\n",
    "ndf['Neutral'] = [sia.polarity_scores(v)['neu'] for v in ndf['News']]\n",
    "ndf['Positive'] = [sia.polarity_scores(v)['pos'] for v in ndf['News']]\n",
    "ndf"
   ]
  },
  {
   "cell_type": "code",
   "execution_count": 45,
   "metadata": {},
   "outputs": [
    {
     "data": {
      "text/html": [
       "<div>\n",
       "<style scoped>\n",
       "    .dataframe tbody tr th:only-of-type {\n",
       "        vertical-align: middle;\n",
       "    }\n",
       "\n",
       "    .dataframe tbody tr th {\n",
       "        vertical-align: top;\n",
       "    }\n",
       "\n",
       "    .dataframe thead th {\n",
       "        text-align: right;\n",
       "    }\n",
       "</style>\n",
       "<table border=\"1\" class=\"dataframe\">\n",
       "  <thead>\n",
       "    <tr style=\"text-align: right;\">\n",
       "      <th></th>\n",
       "      <th>Date</th>\n",
       "      <th>Open</th>\n",
       "      <th>High</th>\n",
       "      <th>Low</th>\n",
       "      <th>Close</th>\n",
       "      <th>Adj Close</th>\n",
       "      <th>Volume</th>\n",
       "    </tr>\n",
       "  </thead>\n",
       "  <tbody>\n",
       "    <tr>\n",
       "      <td>0</td>\n",
       "      <td>2016-01-14</td>\n",
       "      <td>24606.199219</td>\n",
       "      <td>25018.460938</td>\n",
       "      <td>24473.220703</td>\n",
       "      <td>24772.970703</td>\n",
       "      <td>24772.970703</td>\n",
       "      <td>14900.0</td>\n",
       "    </tr>\n",
       "    <tr>\n",
       "      <td>1</td>\n",
       "      <td>2016-01-15</td>\n",
       "      <td>24881.759766</td>\n",
       "      <td>24912.640625</td>\n",
       "      <td>24421.529297</td>\n",
       "      <td>24455.039063</td>\n",
       "      <td>24455.039063</td>\n",
       "      <td>12700.0</td>\n",
       "    </tr>\n",
       "    <tr>\n",
       "      <td>2</td>\n",
       "      <td>2016-01-18</td>\n",
       "      <td>24400.779297</td>\n",
       "      <td>24524.849609</td>\n",
       "      <td>24141.990234</td>\n",
       "      <td>24188.369141</td>\n",
       "      <td>24188.369141</td>\n",
       "      <td>13600.0</td>\n",
       "    </tr>\n",
       "    <tr>\n",
       "      <td>3</td>\n",
       "      <td>2016-01-19</td>\n",
       "      <td>24257.279297</td>\n",
       "      <td>24563.339844</td>\n",
       "      <td>24247.230469</td>\n",
       "      <td>24479.839844</td>\n",
       "      <td>24479.839844</td>\n",
       "      <td>9400.0</td>\n",
       "    </tr>\n",
       "    <tr>\n",
       "      <td>4</td>\n",
       "      <td>2016-01-20</td>\n",
       "      <td>24325.769531</td>\n",
       "      <td>24325.769531</td>\n",
       "      <td>23839.759766</td>\n",
       "      <td>24062.039063</td>\n",
       "      <td>24062.039063</td>\n",
       "      <td>12800.0</td>\n",
       "    </tr>\n",
       "  </tbody>\n",
       "</table>\n",
       "</div>"
      ],
      "text/plain": [
       "        Date          Open          High           Low         Close  \\\n",
       "0 2016-01-14  24606.199219  25018.460938  24473.220703  24772.970703   \n",
       "1 2016-01-15  24881.759766  24912.640625  24421.529297  24455.039063   \n",
       "2 2016-01-18  24400.779297  24524.849609  24141.990234  24188.369141   \n",
       "3 2016-01-19  24257.279297  24563.339844  24247.230469  24479.839844   \n",
       "4 2016-01-20  24325.769531  24325.769531  23839.759766  24062.039063   \n",
       "\n",
       "      Adj Close   Volume  \n",
       "0  24772.970703  14900.0  \n",
       "1  24455.039063  12700.0  \n",
       "2  24188.369141  13600.0  \n",
       "3  24479.839844   9400.0  \n",
       "4  24062.039063  12800.0  "
      ]
     },
     "execution_count": 45,
     "metadata": {},
     "output_type": "execute_result"
    }
   ],
   "source": [
    "df=pd.read_csv('^BSESN.csv')\n",
    "df['Date'] = pd.to_datetime(df.Date,format='%Y-%m-%d')\n",
    "df.dropna(inplace=True)\n",
    "df.head()"
   ]
  },
  {
   "cell_type": "code",
   "execution_count": 46,
   "metadata": {},
   "outputs": [
    {
     "data": {
      "text/html": [
       "<div>\n",
       "<style scoped>\n",
       "    .dataframe tbody tr th:only-of-type {\n",
       "        vertical-align: middle;\n",
       "    }\n",
       "\n",
       "    .dataframe tbody tr th {\n",
       "        vertical-align: top;\n",
       "    }\n",
       "\n",
       "    .dataframe thead th {\n",
       "        text-align: right;\n",
       "    }\n",
       "</style>\n",
       "<table border=\"1\" class=\"dataframe\">\n",
       "  <thead>\n",
       "    <tr style=\"text-align: right;\">\n",
       "      <th></th>\n",
       "      <th>Date</th>\n",
       "      <th>Open</th>\n",
       "      <th>High</th>\n",
       "      <th>Low</th>\n",
       "      <th>Close</th>\n",
       "      <th>Adj Close</th>\n",
       "      <th>Volume</th>\n",
       "      <th>News</th>\n",
       "      <th>Subjectivity</th>\n",
       "      <th>Polarity</th>\n",
       "    </tr>\n",
       "  </thead>\n",
       "  <tbody>\n",
       "    <tr>\n",
       "      <td>0</td>\n",
       "      <td>2016-01-14</td>\n",
       "      <td>24606.199219</td>\n",
       "      <td>25018.460938</td>\n",
       "      <td>24473.220703</td>\n",
       "      <td>24772.970703</td>\n",
       "      <td>24772.970703</td>\n",
       "      <td>14900.0</td>\n",
       "      <td>Foods women must eat to fight osteoporosis Bes...</td>\n",
       "      <td>0.378881</td>\n",
       "      <td>0.064791</td>\n",
       "    </tr>\n",
       "    <tr>\n",
       "      <td>1</td>\n",
       "      <td>2016-01-15</td>\n",
       "      <td>24881.759766</td>\n",
       "      <td>24912.640625</td>\n",
       "      <td>24421.529297</td>\n",
       "      <td>24455.039063</td>\n",
       "      <td>24455.039063</td>\n",
       "      <td>12700.0</td>\n",
       "      <td>Common fitness mistakes women keep making Fres...</td>\n",
       "      <td>0.401473</td>\n",
       "      <td>0.048803</td>\n",
       "    </tr>\n",
       "    <tr>\n",
       "      <td>2</td>\n",
       "      <td>2016-01-18</td>\n",
       "      <td>24400.779297</td>\n",
       "      <td>24524.849609</td>\n",
       "      <td>24141.990234</td>\n",
       "      <td>24188.369141</td>\n",
       "      <td>24188.369141</td>\n",
       "      <td>13600.0</td>\n",
       "      <td>Exercising through injury Tips to understand f...</td>\n",
       "      <td>0.406078</td>\n",
       "      <td>0.127363</td>\n",
       "    </tr>\n",
       "    <tr>\n",
       "      <td>3</td>\n",
       "      <td>2016-01-19</td>\n",
       "      <td>24257.279297</td>\n",
       "      <td>24563.339844</td>\n",
       "      <td>24247.230469</td>\n",
       "      <td>24479.839844</td>\n",
       "      <td>24479.839844</td>\n",
       "      <td>9400.0</td>\n",
       "      <td>superfoods for your child All you wanted to ...</td>\n",
       "      <td>0.375585</td>\n",
       "      <td>0.063907</td>\n",
       "    </tr>\n",
       "    <tr>\n",
       "      <td>4</td>\n",
       "      <td>2016-01-20</td>\n",
       "      <td>24325.769531</td>\n",
       "      <td>24325.769531</td>\n",
       "      <td>23839.759766</td>\n",
       "      <td>24062.039063</td>\n",
       "      <td>24062.039063</td>\n",
       "      <td>12800.0</td>\n",
       "      <td>Everyday habits that could be ruining your ski...</td>\n",
       "      <td>0.380043</td>\n",
       "      <td>0.059517</td>\n",
       "    </tr>\n",
       "    <tr>\n",
       "      <td>...</td>\n",
       "      <td>...</td>\n",
       "      <td>...</td>\n",
       "      <td>...</td>\n",
       "      <td>...</td>\n",
       "      <td>...</td>\n",
       "      <td>...</td>\n",
       "      <td>...</td>\n",
       "      <td>...</td>\n",
       "      <td>...</td>\n",
       "      <td>...</td>\n",
       "    </tr>\n",
       "    <tr>\n",
       "      <td>1216</td>\n",
       "      <td>2020-12-24</td>\n",
       "      <td>46743.488281</td>\n",
       "      <td>47053.398438</td>\n",
       "      <td>46539.019531</td>\n",
       "      <td>46973.539063</td>\n",
       "      <td>46973.539063</td>\n",
       "      <td>13700.0</td>\n",
       "      <td>How to set the mood for sex during cold winter...</td>\n",
       "      <td>0.387011</td>\n",
       "      <td>0.053569</td>\n",
       "    </tr>\n",
       "    <tr>\n",
       "      <td>1217</td>\n",
       "      <td>2020-12-28</td>\n",
       "      <td>47153.589844</td>\n",
       "      <td>47406.718750</td>\n",
       "      <td>47148.238281</td>\n",
       "      <td>47353.750000</td>\n",
       "      <td>47353.750000</td>\n",
       "      <td>9600.0</td>\n",
       "      <td>Horoscope Today     December       Check astro...</td>\n",
       "      <td>0.409973</td>\n",
       "      <td>0.071405</td>\n",
       "    </tr>\n",
       "    <tr>\n",
       "      <td>1218</td>\n",
       "      <td>2020-12-29</td>\n",
       "      <td>47466.621094</td>\n",
       "      <td>47714.550781</td>\n",
       "      <td>47361.898438</td>\n",
       "      <td>47613.078125</td>\n",
       "      <td>47613.078125</td>\n",
       "      <td>12800.0</td>\n",
       "      <td>Man recovers charred remains of 'thief' from h...</td>\n",
       "      <td>0.415684</td>\n",
       "      <td>0.060775</td>\n",
       "    </tr>\n",
       "    <tr>\n",
       "      <td>1219</td>\n",
       "      <td>2020-12-30</td>\n",
       "      <td>47789.031250</td>\n",
       "      <td>47807.851563</td>\n",
       "      <td>47358.359375</td>\n",
       "      <td>47746.218750</td>\n",
       "      <td>47746.218750</td>\n",
       "      <td>15600.0</td>\n",
       "      <td>Numerology Readings    December       Predicti...</td>\n",
       "      <td>0.436863</td>\n",
       "      <td>0.046930</td>\n",
       "    </tr>\n",
       "    <tr>\n",
       "      <td>1220</td>\n",
       "      <td>2020-12-31</td>\n",
       "      <td>47753.109375</td>\n",
       "      <td>47896.968750</td>\n",
       "      <td>47602.121094</td>\n",
       "      <td>47751.328125</td>\n",
       "      <td>47751.328125</td>\n",
       "      <td>13900.0</td>\n",
       "      <td>Horoscope Today     December       Check astro...</td>\n",
       "      <td>0.408454</td>\n",
       "      <td>0.091829</td>\n",
       "    </tr>\n",
       "  </tbody>\n",
       "</table>\n",
       "<p>1221 rows × 10 columns</p>\n",
       "</div>"
      ],
      "text/plain": [
       "           Date          Open          High           Low         Close  \\\n",
       "0    2016-01-14  24606.199219  25018.460938  24473.220703  24772.970703   \n",
       "1    2016-01-15  24881.759766  24912.640625  24421.529297  24455.039063   \n",
       "2    2016-01-18  24400.779297  24524.849609  24141.990234  24188.369141   \n",
       "3    2016-01-19  24257.279297  24563.339844  24247.230469  24479.839844   \n",
       "4    2016-01-20  24325.769531  24325.769531  23839.759766  24062.039063   \n",
       "...         ...           ...           ...           ...           ...   \n",
       "1216 2020-12-24  46743.488281  47053.398438  46539.019531  46973.539063   \n",
       "1217 2020-12-28  47153.589844  47406.718750  47148.238281  47353.750000   \n",
       "1218 2020-12-29  47466.621094  47714.550781  47361.898438  47613.078125   \n",
       "1219 2020-12-30  47789.031250  47807.851563  47358.359375  47746.218750   \n",
       "1220 2020-12-31  47753.109375  47896.968750  47602.121094  47751.328125   \n",
       "\n",
       "         Adj Close   Volume  \\\n",
       "0     24772.970703  14900.0   \n",
       "1     24455.039063  12700.0   \n",
       "2     24188.369141  13600.0   \n",
       "3     24479.839844   9400.0   \n",
       "4     24062.039063  12800.0   \n",
       "...            ...      ...   \n",
       "1216  46973.539063  13700.0   \n",
       "1217  47353.750000   9600.0   \n",
       "1218  47613.078125  12800.0   \n",
       "1219  47746.218750  15600.0   \n",
       "1220  47751.328125  13900.0   \n",
       "\n",
       "                                                   News  Subjectivity  \\\n",
       "0     Foods women must eat to fight osteoporosis Bes...      0.378881   \n",
       "1     Common fitness mistakes women keep making Fres...      0.401473   \n",
       "2     Exercising through injury Tips to understand f...      0.406078   \n",
       "3       superfoods for your child All you wanted to ...      0.375585   \n",
       "4     Everyday habits that could be ruining your ski...      0.380043   \n",
       "...                                                 ...           ...   \n",
       "1216  How to set the mood for sex during cold winter...      0.387011   \n",
       "1217  Horoscope Today     December       Check astro...      0.409973   \n",
       "1218  Man recovers charred remains of 'thief' from h...      0.415684   \n",
       "1219  Numerology Readings    December       Predicti...      0.436863   \n",
       "1220  Horoscope Today     December       Check astro...      0.408454   \n",
       "\n",
       "      Polarity  \n",
       "0     0.064791  \n",
       "1     0.048803  \n",
       "2     0.127363  \n",
       "3     0.063907  \n",
       "4     0.059517  \n",
       "...        ...  \n",
       "1216  0.053569  \n",
       "1217  0.071405  \n",
       "1218  0.060775  \n",
       "1219  0.046930  \n",
       "1220  0.091829  \n",
       "\n",
       "[1221 rows x 10 columns]"
      ]
     },
     "execution_count": 46,
     "metadata": {},
     "output_type": "execute_result"
    }
   ],
   "source": [
    "df_merge = pd.merge(df, ndf, how='inner', on='Date')\n",
    "df_merge"
   ]
  },
  {
   "cell_type": "code",
   "execution_count": 48,
   "metadata": {},
   "outputs": [
    {
     "data": {
      "text/html": [
       "<div>\n",
       "<style scoped>\n",
       "    .dataframe tbody tr th:only-of-type {\n",
       "        vertical-align: middle;\n",
       "    }\n",
       "\n",
       "    .dataframe tbody tr th {\n",
       "        vertical-align: top;\n",
       "    }\n",
       "\n",
       "    .dataframe thead th {\n",
       "        text-align: right;\n",
       "    }\n",
       "</style>\n",
       "<table border=\"1\" class=\"dataframe\">\n",
       "  <thead>\n",
       "    <tr style=\"text-align: right;\">\n",
       "      <th></th>\n",
       "      <th>Close</th>\n",
       "      <th>Subjectivity</th>\n",
       "      <th>Polarity</th>\n",
       "    </tr>\n",
       "  </thead>\n",
       "  <tbody>\n",
       "    <tr>\n",
       "      <td>0</td>\n",
       "      <td>24772.970703</td>\n",
       "      <td>0.378881</td>\n",
       "      <td>0.064791</td>\n",
       "    </tr>\n",
       "    <tr>\n",
       "      <td>1</td>\n",
       "      <td>24455.039063</td>\n",
       "      <td>0.401473</td>\n",
       "      <td>0.048803</td>\n",
       "    </tr>\n",
       "    <tr>\n",
       "      <td>2</td>\n",
       "      <td>24188.369141</td>\n",
       "      <td>0.406078</td>\n",
       "      <td>0.127363</td>\n",
       "    </tr>\n",
       "    <tr>\n",
       "      <td>3</td>\n",
       "      <td>24479.839844</td>\n",
       "      <td>0.375585</td>\n",
       "      <td>0.063907</td>\n",
       "    </tr>\n",
       "    <tr>\n",
       "      <td>4</td>\n",
       "      <td>24062.039063</td>\n",
       "      <td>0.380043</td>\n",
       "      <td>0.059517</td>\n",
       "    </tr>\n",
       "    <tr>\n",
       "      <td>...</td>\n",
       "      <td>...</td>\n",
       "      <td>...</td>\n",
       "      <td>...</td>\n",
       "    </tr>\n",
       "    <tr>\n",
       "      <td>1216</td>\n",
       "      <td>46973.539063</td>\n",
       "      <td>0.387011</td>\n",
       "      <td>0.053569</td>\n",
       "    </tr>\n",
       "    <tr>\n",
       "      <td>1217</td>\n",
       "      <td>47353.750000</td>\n",
       "      <td>0.409973</td>\n",
       "      <td>0.071405</td>\n",
       "    </tr>\n",
       "    <tr>\n",
       "      <td>1218</td>\n",
       "      <td>47613.078125</td>\n",
       "      <td>0.415684</td>\n",
       "      <td>0.060775</td>\n",
       "    </tr>\n",
       "    <tr>\n",
       "      <td>1219</td>\n",
       "      <td>47746.218750</td>\n",
       "      <td>0.436863</td>\n",
       "      <td>0.046930</td>\n",
       "    </tr>\n",
       "    <tr>\n",
       "      <td>1220</td>\n",
       "      <td>47751.328125</td>\n",
       "      <td>0.408454</td>\n",
       "      <td>0.091829</td>\n",
       "    </tr>\n",
       "  </tbody>\n",
       "</table>\n",
       "<p>1221 rows × 3 columns</p>\n",
       "</div>"
      ],
      "text/plain": [
       "             Close  Subjectivity  Polarity\n",
       "0     24772.970703      0.378881  0.064791\n",
       "1     24455.039063      0.401473  0.048803\n",
       "2     24188.369141      0.406078  0.127363\n",
       "3     24479.839844      0.375585  0.063907\n",
       "4     24062.039063      0.380043  0.059517\n",
       "...            ...           ...       ...\n",
       "1216  46973.539063      0.387011  0.053569\n",
       "1217  47353.750000      0.409973  0.071405\n",
       "1218  47613.078125      0.415684  0.060775\n",
       "1219  47746.218750      0.436863  0.046930\n",
       "1220  47751.328125      0.408454  0.091829\n",
       "\n",
       "[1221 rows x 3 columns]"
      ]
     },
     "execution_count": 48,
     "metadata": {},
     "output_type": "execute_result"
    }
   ],
   "source": [
    "dfmerge1 = df_merge[['Close','Subjectivity', 'Polarity']]\n",
    "dfmerge1"
   ]
  },
  {
   "cell_type": "markdown",
   "metadata": {},
   "source": [
    "### Normalize Data"
   ]
  },
  {
   "cell_type": "code",
   "execution_count": 49,
   "metadata": {},
   "outputs": [
    {
     "data": {
      "text/html": [
       "<div>\n",
       "<style scoped>\n",
       "    .dataframe tbody tr th:only-of-type {\n",
       "        vertical-align: middle;\n",
       "    }\n",
       "\n",
       "    .dataframe tbody tr th {\n",
       "        vertical-align: top;\n",
       "    }\n",
       "\n",
       "    .dataframe thead th {\n",
       "        text-align: right;\n",
       "    }\n",
       "</style>\n",
       "<table border=\"1\" class=\"dataframe\">\n",
       "  <thead>\n",
       "    <tr style=\"text-align: right;\">\n",
       "      <th></th>\n",
       "      <th>Close</th>\n",
       "      <th>Subjectivity</th>\n",
       "      <th>Polarity</th>\n",
       "    </tr>\n",
       "  </thead>\n",
       "  <tbody>\n",
       "    <tr>\n",
       "      <td>0</td>\n",
       "      <td>0.073435</td>\n",
       "      <td>0.364022</td>\n",
       "      <td>0.545935</td>\n",
       "    </tr>\n",
       "    <tr>\n",
       "      <td>1</td>\n",
       "      <td>0.060614</td>\n",
       "      <td>0.534789</td>\n",
       "      <td>0.429917</td>\n",
       "    </tr>\n",
       "    <tr>\n",
       "      <td>2</td>\n",
       "      <td>0.049861</td>\n",
       "      <td>0.569601</td>\n",
       "      <td>1.000000</td>\n",
       "    </tr>\n",
       "    <tr>\n",
       "      <td>3</td>\n",
       "      <td>0.061615</td>\n",
       "      <td>0.339110</td>\n",
       "      <td>0.539524</td>\n",
       "    </tr>\n",
       "    <tr>\n",
       "      <td>4</td>\n",
       "      <td>0.044767</td>\n",
       "      <td>0.372802</td>\n",
       "      <td>0.507664</td>\n",
       "    </tr>\n",
       "  </tbody>\n",
       "</table>\n",
       "</div>"
      ],
      "text/plain": [
       "      Close  Subjectivity  Polarity\n",
       "0  0.073435      0.364022  0.545935\n",
       "1  0.060614      0.534789  0.429917\n",
       "2  0.049861      0.569601  1.000000\n",
       "3  0.061615      0.339110  0.539524\n",
       "4  0.044767      0.372802  0.507664"
      ]
     },
     "execution_count": 49,
     "metadata": {},
     "output_type": "execute_result"
    }
   ],
   "source": [
    "scaler = MinMaxScaler()\n",
    "\n",
    "df = pd.DataFrame(scaler.fit_transform(dfmerge1))\n",
    "df.columns = dfmerge1.columns\n",
    "df.index = dfmerge1.index\n",
    "df.head()"
   ]
  },
  {
   "cell_type": "code",
   "execution_count": 50,
   "metadata": {},
   "outputs": [
    {
     "data": {
      "text/html": [
       "<div>\n",
       "<style scoped>\n",
       "    .dataframe tbody tr th:only-of-type {\n",
       "        vertical-align: middle;\n",
       "    }\n",
       "\n",
       "    .dataframe tbody tr th {\n",
       "        vertical-align: top;\n",
       "    }\n",
       "\n",
       "    .dataframe thead th {\n",
       "        text-align: right;\n",
       "    }\n",
       "</style>\n",
       "<table border=\"1\" class=\"dataframe\">\n",
       "  <thead>\n",
       "    <tr style=\"text-align: right;\">\n",
       "      <th></th>\n",
       "      <th>Subjectivity</th>\n",
       "      <th>Polarity</th>\n",
       "    </tr>\n",
       "  </thead>\n",
       "  <tbody>\n",
       "    <tr>\n",
       "      <td>0</td>\n",
       "      <td>0.364022</td>\n",
       "      <td>0.545935</td>\n",
       "    </tr>\n",
       "    <tr>\n",
       "      <td>1</td>\n",
       "      <td>0.534789</td>\n",
       "      <td>0.429917</td>\n",
       "    </tr>\n",
       "    <tr>\n",
       "      <td>2</td>\n",
       "      <td>0.569601</td>\n",
       "      <td>1.000000</td>\n",
       "    </tr>\n",
       "    <tr>\n",
       "      <td>3</td>\n",
       "      <td>0.339110</td>\n",
       "      <td>0.539524</td>\n",
       "    </tr>\n",
       "    <tr>\n",
       "      <td>4</td>\n",
       "      <td>0.372802</td>\n",
       "      <td>0.507664</td>\n",
       "    </tr>\n",
       "    <tr>\n",
       "      <td>...</td>\n",
       "      <td>...</td>\n",
       "      <td>...</td>\n",
       "    </tr>\n",
       "    <tr>\n",
       "      <td>1216</td>\n",
       "      <td>0.425477</td>\n",
       "      <td>0.464499</td>\n",
       "    </tr>\n",
       "    <tr>\n",
       "      <td>1217</td>\n",
       "      <td>0.599046</td>\n",
       "      <td>0.593934</td>\n",
       "    </tr>\n",
       "    <tr>\n",
       "      <td>1218</td>\n",
       "      <td>0.642216</td>\n",
       "      <td>0.516791</td>\n",
       "    </tr>\n",
       "    <tr>\n",
       "      <td>1219</td>\n",
       "      <td>0.802298</td>\n",
       "      <td>0.416327</td>\n",
       "    </tr>\n",
       "    <tr>\n",
       "      <td>1220</td>\n",
       "      <td>0.587558</td>\n",
       "      <td>0.742146</td>\n",
       "    </tr>\n",
       "  </tbody>\n",
       "</table>\n",
       "<p>1221 rows × 2 columns</p>\n",
       "</div>"
      ],
      "text/plain": [
       "      Subjectivity  Polarity\n",
       "0         0.364022  0.545935\n",
       "1         0.534789  0.429917\n",
       "2         0.569601  1.000000\n",
       "3         0.339110  0.539524\n",
       "4         0.372802  0.507664\n",
       "...            ...       ...\n",
       "1216      0.425477  0.464499\n",
       "1217      0.599046  0.593934\n",
       "1218      0.642216  0.516791\n",
       "1219      0.802298  0.416327\n",
       "1220      0.587558  0.742146\n",
       "\n",
       "[1221 rows x 2 columns]"
      ]
     },
     "execution_count": 50,
     "metadata": {},
     "output_type": "execute_result"
    }
   ],
   "source": [
    "X=df.drop('Close',axis=1)\n",
    "X"
   ]
  },
  {
   "cell_type": "code",
   "execution_count": 51,
   "metadata": {},
   "outputs": [
    {
     "data": {
      "text/plain": [
       "0       0.073435\n",
       "1       0.060614\n",
       "2       0.049861\n",
       "3       0.061615\n",
       "4       0.044767\n",
       "          ...   \n",
       "1216    0.968637\n",
       "1217    0.983968\n",
       "1218    0.994425\n",
       "1219    0.999794\n",
       "1220    1.000000\n",
       "Name: Close, Length: 1221, dtype: float64"
      ]
     },
     "execution_count": 51,
     "metadata": {},
     "output_type": "execute_result"
    }
   ],
   "source": [
    "Y=df['Close']\n",
    "Y"
   ]
  },
  {
   "cell_type": "markdown",
   "metadata": {},
   "source": [
    "### Split the Dataset into Train & Test Data"
   ]
  },
  {
   "cell_type": "code",
   "execution_count": 53,
   "metadata": {},
   "outputs": [],
   "source": [
    "from sklearn.model_selection import train_test_split"
   ]
  },
  {
   "cell_type": "code",
   "execution_count": 54,
   "metadata": {},
   "outputs": [
    {
     "data": {
      "text/plain": [
       "(976, 2)"
      ]
     },
     "execution_count": 54,
     "metadata": {},
     "output_type": "execute_result"
    }
   ],
   "source": [
    "x_train, x_test, y_train, y_test = train_test_split(X, Y, test_size=0.2, random_state = 0)\n",
    "x_train.shape"
   ]
  },
  {
   "cell_type": "code",
   "execution_count": 55,
   "metadata": {},
   "outputs": [
    {
     "data": {
      "text/html": [
       "<div>\n",
       "<style scoped>\n",
       "    .dataframe tbody tr th:only-of-type {\n",
       "        vertical-align: middle;\n",
       "    }\n",
       "\n",
       "    .dataframe tbody tr th {\n",
       "        vertical-align: top;\n",
       "    }\n",
       "\n",
       "    .dataframe thead th {\n",
       "        text-align: right;\n",
       "    }\n",
       "</style>\n",
       "<table border=\"1\" class=\"dataframe\">\n",
       "  <thead>\n",
       "    <tr style=\"text-align: right;\">\n",
       "      <th></th>\n",
       "      <th>Subjectivity</th>\n",
       "      <th>Polarity</th>\n",
       "    </tr>\n",
       "  </thead>\n",
       "  <tbody>\n",
       "    <tr>\n",
       "      <td>546</td>\n",
       "      <td>0.534676</td>\n",
       "      <td>0.391622</td>\n",
       "    </tr>\n",
       "    <tr>\n",
       "      <td>902</td>\n",
       "      <td>0.344587</td>\n",
       "      <td>0.389584</td>\n",
       "    </tr>\n",
       "    <tr>\n",
       "      <td>1037</td>\n",
       "      <td>0.467706</td>\n",
       "      <td>0.752185</td>\n",
       "    </tr>\n",
       "    <tr>\n",
       "      <td>422</td>\n",
       "      <td>0.418639</td>\n",
       "      <td>0.572040</td>\n",
       "    </tr>\n",
       "    <tr>\n",
       "      <td>85</td>\n",
       "      <td>0.537956</td>\n",
       "      <td>0.670260</td>\n",
       "    </tr>\n",
       "    <tr>\n",
       "      <td>192</td>\n",
       "      <td>0.261131</td>\n",
       "      <td>0.485215</td>\n",
       "    </tr>\n",
       "    <tr>\n",
       "      <td>833</td>\n",
       "      <td>0.426555</td>\n",
       "      <td>0.606032</td>\n",
       "    </tr>\n",
       "    <tr>\n",
       "      <td>513</td>\n",
       "      <td>0.454391</td>\n",
       "      <td>0.415819</td>\n",
       "    </tr>\n",
       "    <tr>\n",
       "      <td>587</td>\n",
       "      <td>0.669219</td>\n",
       "      <td>0.461066</td>\n",
       "    </tr>\n",
       "    <tr>\n",
       "      <td>1010</td>\n",
       "      <td>0.494020</td>\n",
       "      <td>0.459337</td>\n",
       "    </tr>\n",
       "  </tbody>\n",
       "</table>\n",
       "</div>"
      ],
      "text/plain": [
       "      Subjectivity  Polarity\n",
       "546       0.534676  0.391622\n",
       "902       0.344587  0.389584\n",
       "1037      0.467706  0.752185\n",
       "422       0.418639  0.572040\n",
       "85        0.537956  0.670260\n",
       "192       0.261131  0.485215\n",
       "833       0.426555  0.606032\n",
       "513       0.454391  0.415819\n",
       "587       0.669219  0.461066\n",
       "1010      0.494020  0.459337"
      ]
     },
     "execution_count": 55,
     "metadata": {},
     "output_type": "execute_result"
    }
   ],
   "source": [
    "x_train[:10]"
   ]
  },
  {
   "cell_type": "markdown",
   "metadata": {},
   "source": [
    "### RandomForestRegressor Model"
   ]
  },
  {
   "cell_type": "code",
   "execution_count": 56,
   "metadata": {},
   "outputs": [],
   "source": [
    "rf = RandomForestRegressor()\n",
    "rf.fit(x_train, y_train)\n",
    "prediction=rf.predict(x_test)"
   ]
  },
  {
   "cell_type": "code",
   "execution_count": 57,
   "metadata": {},
   "outputs": [
    {
     "name": "stdout",
     "output_type": "stream",
     "text": [
      "[0.61818577 0.57160357 0.50820724 0.58528128 0.58892033 0.36151083\n",
      " 0.51198487 0.40925041 0.31869987 0.51342439]\n",
      "1146    0.637303\n",
      "992     0.724288\n",
      "478     0.436523\n",
      "161     0.235707\n",
      "1155    0.582142\n",
      "989     0.734019\n",
      "568     0.482411\n",
      "5       0.040742\n",
      "805     0.649322\n",
      "552     0.443098\n",
      "Name: Close, dtype: float64\n",
      "Mean Squared error:  0.04679356120046397\n"
     ]
    }
   ],
   "source": [
    "print(prediction[:10])\n",
    "print(y_test[:10])\n",
    "print('Mean Squared error: ',mean_squared_error(prediction,y_test))"
   ]
  },
  {
   "cell_type": "markdown",
   "metadata": {},
   "source": [
    "### AdaBoostRegressor Model"
   ]
  },
  {
   "cell_type": "code",
   "execution_count": 60,
   "metadata": {},
   "outputs": [
    {
     "data": {
      "text/plain": [
       "AdaBoostRegressor()"
      ]
     },
     "execution_count": 60,
     "metadata": {},
     "output_type": "execute_result"
    }
   ],
   "source": [
    "adb = AdaBoostRegressor()\n",
    "adb.fit(x_train, y_train)"
   ]
  },
  {
   "cell_type": "code",
   "execution_count": 61,
   "metadata": {},
   "outputs": [
    {
     "name": "stdout",
     "output_type": "stream",
     "text": [
      "0.04227648030732999\n"
     ]
    }
   ],
   "source": [
    "predictions = adb.predict(x_test)\n",
    "print(mean_squared_error(predictions, y_test))"
   ]
  },
  {
   "cell_type": "markdown",
   "metadata": {},
   "source": [
    "### LGBMRegressor Model"
   ]
  },
  {
   "cell_type": "code",
   "execution_count": 67,
   "metadata": {},
   "outputs": [],
   "source": [
    "import lightgbm"
   ]
  },
  {
   "cell_type": "code",
   "execution_count": 68,
   "metadata": {},
   "outputs": [
    {
     "data": {
      "text/plain": [
       "LGBMRegressor()"
      ]
     },
     "execution_count": 68,
     "metadata": {},
     "output_type": "execute_result"
    }
   ],
   "source": [
    "gbm = lightgbm.LGBMRegressor()\n",
    "gbm.fit(x_train, y_train)"
   ]
  },
  {
   "cell_type": "code",
   "execution_count": 69,
   "metadata": {},
   "outputs": [
    {
     "name": "stdout",
     "output_type": "stream",
     "text": [
      "0.04854315367262096\n"
     ]
    }
   ],
   "source": [
    "predictions = gbm.predict(x_test)\n",
    "print(mean_squared_error(predictions, y_test))"
   ]
  },
  {
   "cell_type": "markdown",
   "metadata": {},
   "source": [
    "### DecisionTreeRegressor Model"
   ]
  },
  {
   "cell_type": "code",
   "execution_count": 63,
   "metadata": {},
   "outputs": [],
   "source": [
    "from sklearn.tree import DecisionTreeRegressor"
   ]
  },
  {
   "cell_type": "code",
   "execution_count": 64,
   "metadata": {},
   "outputs": [],
   "source": [
    "dtr = DecisionTreeRegressor()\n",
    "dtr.fit(x_train, y_train)\n",
    "predictions = dtr.predict(x_test)"
   ]
  },
  {
   "cell_type": "code",
   "execution_count": 65,
   "metadata": {},
   "outputs": [
    {
     "name": "stdout",
     "output_type": "stream",
     "text": [
      "[0.96811884 0.59321757 0.61191755 0.66464606 0.89226486 0.52115525\n",
      " 0.65207493 0.06884818 0.38561705 0.74147993]\n",
      "1146    0.637303\n",
      "992     0.724288\n",
      "478     0.436523\n",
      "161     0.235707\n",
      "1155    0.582142\n",
      "989     0.734019\n",
      "568     0.482411\n",
      "5       0.040742\n",
      "805     0.649322\n",
      "552     0.443098\n",
      "Name: Close, dtype: float64\n",
      "Mean Squared error:  0.07585266350843006\n"
     ]
    }
   ],
   "source": [
    "print(predictions[:10])\n",
    "print(y_test[:10])\n",
    "print('Mean Squared error: ',mean_squared_error(predictions,y_test))"
   ]
  },
  {
   "cell_type": "markdown",
   "metadata": {},
   "source": [
    "                           Mean Squared Error \n",
    "DecisionTree-----------------> 0.07585266350843006\n",
    "\n",
    "AdaBoostRegressor--------> 0.04227648030732999\n",
    "\n",
    "LightGBM--------------------> 0.04854315367262096\n",
    "\n",
    "LGBMRegressor-----------> 0.04854315367262096\n",
    "\n",
    "We can see that AdaBoostRegressor Model shows a slightly better performance than the others"
   ]
  },
  {
   "cell_type": "markdown",
   "metadata": {},
   "source": []
  }
 ],
 "metadata": {
  "kernelspec": {
   "display_name": "Python 3",
   "language": "python",
   "name": "python3"
  },
  "language_info": {
   "codemirror_mode": {
    "name": "ipython",
    "version": 3
   },
   "file_extension": ".py",
   "mimetype": "text/x-python",
   "name": "python",
   "nbconvert_exporter": "python",
   "pygments_lexer": "ipython3",
   "version": "3.7.4"
  }
 },
 "nbformat": 4,
 "nbformat_minor": 2
}
